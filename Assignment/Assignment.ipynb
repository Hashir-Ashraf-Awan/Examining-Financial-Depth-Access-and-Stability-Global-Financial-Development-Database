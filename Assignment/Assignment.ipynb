{
 "cells": [
  {
   "cell_type": "code",
   "execution_count": 3,
   "metadata": {},
   "outputs": [
    {
     "data": {
      "text/html": [
       "<div>\n",
       "<style scoped>\n",
       "    .dataframe tbody tr th:only-of-type {\n",
       "        vertical-align: middle;\n",
       "    }\n",
       "\n",
       "    .dataframe tbody tr th {\n",
       "        vertical-align: top;\n",
       "    }\n",
       "\n",
       "    .dataframe thead th {\n",
       "        text-align: right;\n",
       "    }\n",
       "</style>\n",
       "<table border=\"1\" class=\"dataframe\">\n",
       "  <thead>\n",
       "    <tr style=\"text-align: right;\">\n",
       "      <th></th>\n",
       "      <th>iso3</th>\n",
       "      <th>iso2</th>\n",
       "      <th>imfn</th>\n",
       "      <th>country</th>\n",
       "      <th>region</th>\n",
       "      <th>income</th>\n",
       "      <th>year</th>\n",
       "      <th>ai01</th>\n",
       "      <th>ai02</th>\n",
       "      <th>ai03</th>\n",
       "      <th>...</th>\n",
       "      <th>oi14</th>\n",
       "      <th>oi15</th>\n",
       "      <th>oi16</th>\n",
       "      <th>oi16a</th>\n",
       "      <th>oi17</th>\n",
       "      <th>oi18</th>\n",
       "      <th>oi19</th>\n",
       "      <th>oi20a</th>\n",
       "      <th>om01</th>\n",
       "      <th>om02</th>\n",
       "    </tr>\n",
       "  </thead>\n",
       "  <tbody>\n",
       "    <tr>\n",
       "      <th>0</th>\n",
       "      <td>ABW</td>\n",
       "      <td>AW</td>\n",
       "      <td>314</td>\n",
       "      <td>Aruba</td>\n",
       "      <td>Latin America &amp; Caribbean</td>\n",
       "      <td>High income</td>\n",
       "      <td>1960</td>\n",
       "      <td>NaN</td>\n",
       "      <td>NaN</td>\n",
       "      <td>NaN</td>\n",
       "      <td>...</td>\n",
       "      <td>NaN</td>\n",
       "      <td>NaN</td>\n",
       "      <td>NaN</td>\n",
       "      <td>NaN</td>\n",
       "      <td>NaN</td>\n",
       "      <td>NaN</td>\n",
       "      <td>NaN</td>\n",
       "      <td>NaN</td>\n",
       "      <td>NaN</td>\n",
       "      <td>NaN</td>\n",
       "    </tr>\n",
       "    <tr>\n",
       "      <th>1</th>\n",
       "      <td>ABW</td>\n",
       "      <td>AW</td>\n",
       "      <td>314</td>\n",
       "      <td>Aruba</td>\n",
       "      <td>Latin America &amp; Caribbean</td>\n",
       "      <td>High income</td>\n",
       "      <td>1961</td>\n",
       "      <td>NaN</td>\n",
       "      <td>NaN</td>\n",
       "      <td>NaN</td>\n",
       "      <td>...</td>\n",
       "      <td>NaN</td>\n",
       "      <td>NaN</td>\n",
       "      <td>NaN</td>\n",
       "      <td>NaN</td>\n",
       "      <td>NaN</td>\n",
       "      <td>NaN</td>\n",
       "      <td>NaN</td>\n",
       "      <td>NaN</td>\n",
       "      <td>NaN</td>\n",
       "      <td>NaN</td>\n",
       "    </tr>\n",
       "    <tr>\n",
       "      <th>2</th>\n",
       "      <td>ABW</td>\n",
       "      <td>AW</td>\n",
       "      <td>314</td>\n",
       "      <td>Aruba</td>\n",
       "      <td>Latin America &amp; Caribbean</td>\n",
       "      <td>High income</td>\n",
       "      <td>1962</td>\n",
       "      <td>NaN</td>\n",
       "      <td>NaN</td>\n",
       "      <td>NaN</td>\n",
       "      <td>...</td>\n",
       "      <td>NaN</td>\n",
       "      <td>NaN</td>\n",
       "      <td>NaN</td>\n",
       "      <td>NaN</td>\n",
       "      <td>NaN</td>\n",
       "      <td>NaN</td>\n",
       "      <td>NaN</td>\n",
       "      <td>NaN</td>\n",
       "      <td>NaN</td>\n",
       "      <td>NaN</td>\n",
       "    </tr>\n",
       "    <tr>\n",
       "      <th>3</th>\n",
       "      <td>ABW</td>\n",
       "      <td>AW</td>\n",
       "      <td>314</td>\n",
       "      <td>Aruba</td>\n",
       "      <td>Latin America &amp; Caribbean</td>\n",
       "      <td>High income</td>\n",
       "      <td>1963</td>\n",
       "      <td>NaN</td>\n",
       "      <td>NaN</td>\n",
       "      <td>NaN</td>\n",
       "      <td>...</td>\n",
       "      <td>NaN</td>\n",
       "      <td>NaN</td>\n",
       "      <td>NaN</td>\n",
       "      <td>NaN</td>\n",
       "      <td>NaN</td>\n",
       "      <td>NaN</td>\n",
       "      <td>NaN</td>\n",
       "      <td>NaN</td>\n",
       "      <td>NaN</td>\n",
       "      <td>NaN</td>\n",
       "    </tr>\n",
       "    <tr>\n",
       "      <th>4</th>\n",
       "      <td>ABW</td>\n",
       "      <td>AW</td>\n",
       "      <td>314</td>\n",
       "      <td>Aruba</td>\n",
       "      <td>Latin America &amp; Caribbean</td>\n",
       "      <td>High income</td>\n",
       "      <td>1964</td>\n",
       "      <td>NaN</td>\n",
       "      <td>NaN</td>\n",
       "      <td>NaN</td>\n",
       "      <td>...</td>\n",
       "      <td>NaN</td>\n",
       "      <td>NaN</td>\n",
       "      <td>NaN</td>\n",
       "      <td>NaN</td>\n",
       "      <td>NaN</td>\n",
       "      <td>NaN</td>\n",
       "      <td>NaN</td>\n",
       "      <td>NaN</td>\n",
       "      <td>NaN</td>\n",
       "      <td>NaN</td>\n",
       "    </tr>\n",
       "  </tbody>\n",
       "</table>\n",
       "<p>5 rows × 115 columns</p>\n",
       "</div>"
      ],
      "text/plain": [
       "  iso3 iso2  imfn country                     region       income  year  ai01  \\\n",
       "0  ABW   AW   314   Aruba  Latin America & Caribbean  High income  1960   NaN   \n",
       "1  ABW   AW   314   Aruba  Latin America & Caribbean  High income  1961   NaN   \n",
       "2  ABW   AW   314   Aruba  Latin America & Caribbean  High income  1962   NaN   \n",
       "3  ABW   AW   314   Aruba  Latin America & Caribbean  High income  1963   NaN   \n",
       "4  ABW   AW   314   Aruba  Latin America & Caribbean  High income  1964   NaN   \n",
       "\n",
       "   ai02  ai03  ...  oi14  oi15  oi16  oi16a  oi17  oi18  oi19  oi20a  om01  \\\n",
       "0   NaN   NaN  ...   NaN   NaN   NaN    NaN   NaN   NaN   NaN    NaN   NaN   \n",
       "1   NaN   NaN  ...   NaN   NaN   NaN    NaN   NaN   NaN   NaN    NaN   NaN   \n",
       "2   NaN   NaN  ...   NaN   NaN   NaN    NaN   NaN   NaN   NaN    NaN   NaN   \n",
       "3   NaN   NaN  ...   NaN   NaN   NaN    NaN   NaN   NaN   NaN    NaN   NaN   \n",
       "4   NaN   NaN  ...   NaN   NaN   NaN    NaN   NaN   NaN   NaN    NaN   NaN   \n",
       "\n",
       "   om02  \n",
       "0   NaN  \n",
       "1   NaN  \n",
       "2   NaN  \n",
       "3   NaN  \n",
       "4   NaN  \n",
       "\n",
       "[5 rows x 115 columns]"
      ]
     },
     "execution_count": 3,
     "metadata": {},
     "output_type": "execute_result"
    }
   ],
   "source": [
    "import pandas as pd\n",
    "import numpy as np\n",
    "import seaborn as sns \n",
    "\n",
    "\n",
    "data_sheet = pd.read_excel('Global_Financial_Development_Database.xlsx')\n",
    "data_sheet.head()\n"
   ]
  },
  {
   "cell_type": "code",
   "execution_count": 4,
   "metadata": {},
   "outputs": [
    {
     "data": {
      "text/html": [
       "<div>\n",
       "<style scoped>\n",
       "    .dataframe tbody tr th:only-of-type {\n",
       "        vertical-align: middle;\n",
       "    }\n",
       "\n",
       "    .dataframe tbody tr th {\n",
       "        vertical-align: top;\n",
       "    }\n",
       "\n",
       "    .dataframe thead th {\n",
       "        text-align: right;\n",
       "    }\n",
       "</style>\n",
       "<table border=\"1\" class=\"dataframe\">\n",
       "  <thead>\n",
       "    <tr style=\"text-align: right;\">\n",
       "      <th></th>\n",
       "      <th>ai06</th>\n",
       "      <th>di11</th>\n",
       "    </tr>\n",
       "  </thead>\n",
       "  <tbody>\n",
       "    <tr>\n",
       "      <th>0</th>\n",
       "      <td>NaN</td>\n",
       "      <td>NaN</td>\n",
       "    </tr>\n",
       "    <tr>\n",
       "      <th>1</th>\n",
       "      <td>NaN</td>\n",
       "      <td>NaN</td>\n",
       "    </tr>\n",
       "    <tr>\n",
       "      <th>2</th>\n",
       "      <td>NaN</td>\n",
       "      <td>NaN</td>\n",
       "    </tr>\n",
       "    <tr>\n",
       "      <th>3</th>\n",
       "      <td>NaN</td>\n",
       "      <td>NaN</td>\n",
       "    </tr>\n",
       "    <tr>\n",
       "      <th>4</th>\n",
       "      <td>NaN</td>\n",
       "      <td>NaN</td>\n",
       "    </tr>\n",
       "  </tbody>\n",
       "</table>\n",
       "</div>"
      ],
      "text/plain": [
       "   ai06  di11\n",
       "0   NaN   NaN\n",
       "1   NaN   NaN\n",
       "2   NaN   NaN\n",
       "3   NaN   NaN\n",
       "4   NaN   NaN"
      ]
     },
     "execution_count": 4,
     "metadata": {},
     "output_type": "execute_result"
    }
   ],
   "source": [
    "data=data_sheet[['ai06','di11']]\n",
    "data.head()"
   ]
  },
  {
   "cell_type": "code",
   "execution_count": 5,
   "metadata": {},
   "outputs": [],
   "source": [
    "financial_system_deposits = data_sheet['ai06']\n",
    "bank_deposits = data_sheet['di11']\n",
    "\n",
    "data = pd.DataFrame({'ai06': financial_system_deposits, 'di11': bank_deposits}).dropna()"
   ]
  },
  {
   "cell_type": "code",
   "execution_count": 6,
   "metadata": {},
   "outputs": [
    {
     "data": {
      "text/html": [
       "<div>\n",
       "<style scoped>\n",
       "    .dataframe tbody tr th:only-of-type {\n",
       "        vertical-align: middle;\n",
       "    }\n",
       "\n",
       "    .dataframe tbody tr th {\n",
       "        vertical-align: top;\n",
       "    }\n",
       "\n",
       "    .dataframe thead th {\n",
       "        text-align: right;\n",
       "    }\n",
       "</style>\n",
       "<table border=\"1\" class=\"dataframe\">\n",
       "  <thead>\n",
       "    <tr style=\"text-align: right;\">\n",
       "      <th></th>\n",
       "      <th>ai06</th>\n",
       "      <th>di11</th>\n",
       "    </tr>\n",
       "  </thead>\n",
       "  <tbody>\n",
       "    <tr>\n",
       "      <th>175</th>\n",
       "      <td>15.915580</td>\n",
       "      <td>1.524666</td>\n",
       "    </tr>\n",
       "    <tr>\n",
       "      <th>178</th>\n",
       "      <td>14.860410</td>\n",
       "      <td>1.447225</td>\n",
       "    </tr>\n",
       "    <tr>\n",
       "      <th>237</th>\n",
       "      <td>8.561610</td>\n",
       "      <td>1.489131</td>\n",
       "    </tr>\n",
       "    <tr>\n",
       "      <th>240</th>\n",
       "      <td>7.482739</td>\n",
       "      <td>1.752367</td>\n",
       "    </tr>\n",
       "    <tr>\n",
       "      <th>243</th>\n",
       "      <td>8.660982</td>\n",
       "      <td>1.972013</td>\n",
       "    </tr>\n",
       "  </tbody>\n",
       "</table>\n",
       "</div>"
      ],
      "text/plain": [
       "          ai06      di11\n",
       "175  15.915580  1.524666\n",
       "178  14.860410  1.447225\n",
       "237   8.561610  1.489131\n",
       "240   7.482739  1.752367\n",
       "243   8.660982  1.972013"
      ]
     },
     "execution_count": 6,
     "metadata": {},
     "output_type": "execute_result"
    }
   ],
   "source": [
    "data.head()"
   ]
  },
  {
   "cell_type": "code",
   "execution_count": 7,
   "metadata": {},
   "outputs": [
    {
     "data": {
      "text/plain": [
       "Text(0, 0.5, 'Insurance company assets to GDP')"
      ]
     },
     "execution_count": 7,
     "metadata": {},
     "output_type": "execute_result"
    },
    {
     "data": {
      "image/png": "[encoded data removed]",
      "text/plain": [
       "<Figure size 640x480 with 1 Axes>"
      ]
     },
     "metadata": {},
     "output_type": "display_data"
    }
   ],
   "source": [
    "import matplotlib.pyplot as plt\n",
    "sns.scatterplot(data=data, x='ai06', y='di11')\n",
    "plt.xlabel('Saved at a financial institution')\n",
    "plt.ylabel('Insurance company assets to GDP')"
   ]
  },
  {
   "cell_type": "code",
   "execution_count": 8,
   "metadata": {},
   "outputs": [
    {
     "data": {
      "text/plain": [
       "0.5634680453344879"
      ]
     },
     "execution_count": 8,
     "metadata": {},
     "output_type": "execute_result"
    }
   ],
   "source": [
    "from sklearn.linear_model import LinearRegression\n",
    "model=LinearRegression()\n",
    "\n",
    "model.fit(data[['ai06']], data[['di11']])\n",
    "model.score(data[['ai06']], data[['di11']])\n",
    "\n"
   ]
  },
  {
   "cell_type": "code",
   "execution_count": 9,
   "metadata": {},
   "outputs": [
    {
     "data": {
      "image/png": "[encoded data removed]",
      "text/plain": [
       "<Figure size 640x480 with 1 Axes>"
      ]
     },
     "metadata": {},
     "output_type": "display_data"
    }
   ],
   "source": [
    "predictions = model.predict(data[['ai06']])\n",
    "sns.scatterplot(data=data, x='ai06', y='di11')\n",
    "\n",
    "\n",
    "plt.plot(data['ai06'], predictions, color='red', label='Predictions')\n",
    "\n",
    "\n",
    "plt.xlabel('Saved at a financial institution')\n",
    "plt.ylabel('Insurance company assets to GDP')\n",
    "plt.title('Scatter Plot with Predictions')\n",
    "plt.legend()  \n",
    "\n",
    "plt.show()\n"
   ]
  },
  {
   "cell_type": "code",
   "execution_count": 10,
   "metadata": {},
   "outputs": [
    {
     "data": {
      "text/html": [
       "<div>\n",
       "<style scoped>\n",
       "    .dataframe tbody tr th:only-of-type {\n",
       "        vertical-align: middle;\n",
       "    }\n",
       "\n",
       "    .dataframe tbody tr th {\n",
       "        vertical-align: top;\n",
       "    }\n",
       "\n",
       "    .dataframe thead th {\n",
       "        text-align: right;\n",
       "    }\n",
       "</style>\n",
       "<table border=\"1\" class=\"dataframe\">\n",
       "  <thead>\n",
       "    <tr style=\"text-align: right;\">\n",
       "      <th></th>\n",
       "      <th>count</th>\n",
       "      <th>mean</th>\n",
       "      <th>std</th>\n",
       "      <th>min</th>\n",
       "      <th>25%</th>\n",
       "      <th>50%</th>\n",
       "      <th>75%</th>\n",
       "      <th>95%</th>\n",
       "      <th>max</th>\n",
       "    </tr>\n",
       "  </thead>\n",
       "  <tbody>\n",
       "    <tr>\n",
       "      <th>ai06</th>\n",
       "      <td>352.0</td>\n",
       "      <td>23.518914</td>\n",
       "      <td>18.803078</td>\n",
       "      <td>0.692664</td>\n",
       "      <td>8.753014</td>\n",
       "      <td>16.446730</td>\n",
       "      <td>33.780918</td>\n",
       "      <td>61.651408</td>\n",
       "      <td>79.32737</td>\n",
       "    </tr>\n",
       "    <tr>\n",
       "      <th>di11</th>\n",
       "      <td>352.0</td>\n",
       "      <td>17.995855</td>\n",
       "      <td>28.208159</td>\n",
       "      <td>0.139219</td>\n",
       "      <td>1.889546</td>\n",
       "      <td>4.865764</td>\n",
       "      <td>18.922603</td>\n",
       "      <td>89.741393</td>\n",
       "      <td>137.96496</td>\n",
       "    </tr>\n",
       "  </tbody>\n",
       "</table>\n",
       "</div>"
      ],
      "text/plain": [
       "      count       mean        std       min       25%        50%        75%  \\\n",
       "ai06  352.0  23.518914  18.803078  0.692664  8.753014  16.446730  33.780918   \n",
       "di11  352.0  17.995855  28.208159  0.139219  1.889546   4.865764  18.922603   \n",
       "\n",
       "            95%        max  \n",
       "ai06  61.651408   79.32737  \n",
       "di11  89.741393  137.96496  "
      ]
     },
     "execution_count": 10,
     "metadata": {},
     "output_type": "execute_result"
    }
   ],
   "source": [
    "data.filter(['ai06', 'di11']).describe(percentiles=[0.25,0.5,0.75,0.95]).T"
   ]
  },
  {
   "cell_type": "code",
   "execution_count": 11,
   "metadata": {},
   "outputs": [],
   "source": [
    "data_z = data_sheet[['year', 'si01']]\n",
    "data_z1 = data_sheet[['year', 'si01']]"
   ]
  },
  {
   "cell_type": "code",
   "execution_count": 12,
   "metadata": {},
   "outputs": [
    {
     "data": {
      "text/html": [
       "<div>\n",
       "<style scoped>\n",
       "    .dataframe tbody tr th:only-of-type {\n",
       "        vertical-align: middle;\n",
       "    }\n",
       "\n",
       "    .dataframe tbody tr th {\n",
       "        vertical-align: top;\n",
       "    }\n",
       "\n",
       "    .dataframe thead th {\n",
       "        text-align: right;\n",
       "    }\n",
       "</style>\n",
       "<table border=\"1\" class=\"dataframe\">\n",
       "  <thead>\n",
       "    <tr style=\"text-align: right;\">\n",
       "      <th></th>\n",
       "      <th>year</th>\n",
       "      <th>si01</th>\n",
       "    </tr>\n",
       "  </thead>\n",
       "  <tbody>\n",
       "    <tr>\n",
       "      <th>0</th>\n",
       "      <td>1960</td>\n",
       "      <td>NaN</td>\n",
       "    </tr>\n",
       "    <tr>\n",
       "      <th>1</th>\n",
       "      <td>1961</td>\n",
       "      <td>NaN</td>\n",
       "    </tr>\n",
       "    <tr>\n",
       "      <th>2</th>\n",
       "      <td>1962</td>\n",
       "      <td>NaN</td>\n",
       "    </tr>\n",
       "    <tr>\n",
       "      <th>3</th>\n",
       "      <td>1963</td>\n",
       "      <td>NaN</td>\n",
       "    </tr>\n",
       "    <tr>\n",
       "      <th>4</th>\n",
       "      <td>1964</td>\n",
       "      <td>NaN</td>\n",
       "    </tr>\n",
       "  </tbody>\n",
       "</table>\n",
       "</div>"
      ],
      "text/plain": [
       "   year  si01\n",
       "0  1960   NaN\n",
       "1  1961   NaN\n",
       "2  1962   NaN\n",
       "3  1963   NaN\n",
       "4  1964   NaN"
      ]
     },
     "execution_count": 12,
     "metadata": {},
     "output_type": "execute_result"
    }
   ],
   "source": [
    "data_z.head()"
   ]
  },
  {
   "cell_type": "code",
   "execution_count": 13,
   "metadata": {},
   "outputs": [],
   "source": [
    "data_z = pd.DataFrame({'si01': data_z['si01']}).dropna()"
   ]
  },
  {
   "cell_type": "code",
   "execution_count": 14,
   "metadata": {},
   "outputs": [
    {
     "data": {
      "text/html": [
       "<div>\n",
       "<style scoped>\n",
       "    .dataframe tbody tr th:only-of-type {\n",
       "        vertical-align: middle;\n",
       "    }\n",
       "\n",
       "    .dataframe tbody tr th {\n",
       "        vertical-align: top;\n",
       "    }\n",
       "\n",
       "    .dataframe thead th {\n",
       "        text-align: right;\n",
       "    }\n",
       "</style>\n",
       "<table border=\"1\" class=\"dataframe\">\n",
       "  <thead>\n",
       "    <tr style=\"text-align: right;\">\n",
       "      <th></th>\n",
       "      <th>si01</th>\n",
       "      <th>year</th>\n",
       "    </tr>\n",
       "  </thead>\n",
       "  <tbody>\n",
       "    <tr>\n",
       "      <th>108</th>\n",
       "      <td>48.99729</td>\n",
       "      <td>2006</td>\n",
       "    </tr>\n",
       "    <tr>\n",
       "      <th>109</th>\n",
       "      <td>31.96604</td>\n",
       "      <td>2007</td>\n",
       "    </tr>\n",
       "    <tr>\n",
       "      <th>110</th>\n",
       "      <td>19.94573</td>\n",
       "      <td>2008</td>\n",
       "    </tr>\n",
       "    <tr>\n",
       "      <th>111</th>\n",
       "      <td>26.69275</td>\n",
       "      <td>2009</td>\n",
       "    </tr>\n",
       "    <tr>\n",
       "      <th>112</th>\n",
       "      <td>24.95099</td>\n",
       "      <td>2010</td>\n",
       "    </tr>\n",
       "  </tbody>\n",
       "</table>\n",
       "</div>"
      ],
      "text/plain": [
       "         si01  year\n",
       "108  48.99729  2006\n",
       "109  31.96604  2007\n",
       "110  19.94573  2008\n",
       "111  26.69275  2009\n",
       "112  24.95099  2010"
      ]
     },
     "execution_count": 14,
     "metadata": {},
     "output_type": "execute_result"
    }
   ],
   "source": [
    "data_z['year']=data_sheet['year']\n",
    "data_z.head()"
   ]
  },
  {
   "cell_type": "code",
   "execution_count": 15,
   "metadata": {},
   "outputs": [
    {
     "data": {
      "text/html": [
       "<div>\n",
       "<style scoped>\n",
       "    .dataframe tbody tr th:only-of-type {\n",
       "        vertical-align: middle;\n",
       "    }\n",
       "\n",
       "    .dataframe tbody tr th {\n",
       "        vertical-align: top;\n",
       "    }\n",
       "\n",
       "    .dataframe thead th {\n",
       "        text-align: right;\n",
       "    }\n",
       "</style>\n",
       "<table border=\"1\" class=\"dataframe\">\n",
       "  <thead>\n",
       "    <tr style=\"text-align: right;\">\n",
       "      <th></th>\n",
       "      <th>count</th>\n",
       "      <th>mean</th>\n",
       "      <th>std</th>\n",
       "      <th>min</th>\n",
       "      <th>25%</th>\n",
       "      <th>50%</th>\n",
       "      <th>75%</th>\n",
       "      <th>max</th>\n",
       "    </tr>\n",
       "  </thead>\n",
       "  <tbody>\n",
       "    <tr>\n",
       "      <th>si01</th>\n",
       "      <td>2343.0</td>\n",
       "      <td>16.576487</td>\n",
       "      <td>9.528736</td>\n",
       "      <td>-0.325974</td>\n",
       "      <td>9.590345</td>\n",
       "      <td>15.33082</td>\n",
       "      <td>20.523035</td>\n",
       "      <td>66.63377</td>\n",
       "    </tr>\n",
       "    <tr>\n",
       "      <th>year</th>\n",
       "      <td>2343.0</td>\n",
       "      <td>2014.016219</td>\n",
       "      <td>4.256877</td>\n",
       "      <td>2007.000000</td>\n",
       "      <td>2010.000000</td>\n",
       "      <td>2014.00000</td>\n",
       "      <td>2018.000000</td>\n",
       "      <td>2021.00000</td>\n",
       "    </tr>\n",
       "  </tbody>\n",
       "</table>\n",
       "</div>"
      ],
      "text/plain": [
       "       count         mean       std          min          25%         50%  \\\n",
       "si01  2343.0    16.576487  9.528736    -0.325974     9.590345    15.33082   \n",
       "year  2343.0  2014.016219  4.256877  2007.000000  2010.000000  2014.00000   \n",
       "\n",
       "              75%         max  \n",
       "si01    20.523035    66.63377  \n",
       "year  2018.000000  2021.00000  "
      ]
     },
     "execution_count": 15,
     "metadata": {},
     "output_type": "execute_result"
    }
   ],
   "source": [
    "data_z = data_z[data_z['year'] > 2006]\n",
    "data_z.describe().T"
   ]
  },
  {
   "cell_type": "code",
   "execution_count": 16,
   "metadata": {},
   "outputs": [
    {
     "name": "stdout",
     "output_type": "stream",
     "text": [
      "                            OLS Regression Results                            \n",
      "==============================================================================\n",
      "Dep. Variable:                   ai06   R-squared:                       0.563\n",
      "Model:                            OLS   Adj. R-squared:                  0.562\n",
      "Method:                 Least Squares   F-statistic:                     451.8\n",
      "Date:                Fri, 05 Jul 2024   Prob (F-statistic):           5.70e-65\n",
      "Time:                        10:55:28   Log-Likelihood:                -1385.9\n",
      "No. Observations:                 352   AIC:                             2776.\n",
      "Df Residuals:                     350   BIC:                             2783.\n",
      "Df Model:                           1                                         \n",
      "Covariance Type:            nonrobust                                         \n",
      "==============================================================================\n",
      "                 coef    std err          t      P>|t|      [0.025      0.975]\n",
      "------------------------------------------------------------------------------\n",
      "Intercept     14.5144      0.787     18.445      0.000      12.967      16.062\n",
      "di11           0.5004      0.024     21.255      0.000       0.454       0.547\n",
      "==============================================================================\n",
      "Omnibus:                       57.921   Durbin-Watson:                   0.908\n",
      "Prob(Omnibus):                  0.000   Jarque-Bera (JB):               94.635\n",
      "Skew:                           0.973   Prob(JB):                     2.82e-21\n",
      "Kurtosis:                       4.632   Cond. No.                         39.7\n",
      "==============================================================================\n",
      "\n",
      "Notes:\n",
      "[1] Standard Errors assume that the covariance matrix of the errors is correctly specified.\n"
     ]
    }
   ],
   "source": [
    "import statsmodels.api as sm\n",
    "import statsmodels.formula.api as smf\n",
    "data.head()\n",
    "reg_ols=smf.ols(\"ai06 ~ di11\",data=data).fit()\n",
    "print(reg_ols.summary())\n"
   ]
  },
  {
   "cell_type": "code",
   "execution_count": 17,
   "metadata": {},
   "outputs": [
    {
     "name": "stdout",
     "output_type": "stream",
     "text": [
      "                            OLS Regression Results                            \n",
      "==============================================================================\n",
      "Dep. Variable:                   ai06   R-squared:                       0.563\n",
      "Model:                            OLS   Adj. R-squared:                  0.562\n",
      "Method:                 Least Squares   F-statistic:                     260.4\n",
      "Date:                Fri, 05 Jul 2024   Prob (F-statistic):           3.49e-44\n",
      "Time:                        10:55:28   Log-Likelihood:                -1385.9\n",
      "No. Observations:                 352   AIC:                             2776.\n",
      "Df Residuals:                     350   BIC:                             2783.\n",
      "Df Model:                           1                                         \n",
      "Covariance Type:                  HC3                                         \n",
      "==============================================================================\n",
      "                 coef    std err          z      P>|z|      [0.025      0.975]\n",
      "------------------------------------------------------------------------------\n",
      "Intercept     14.5144      0.711     20.417      0.000      13.121      15.908\n",
      "di11           0.5004      0.031     16.137      0.000       0.440       0.561\n",
      "==============================================================================\n",
      "Omnibus:                       57.921   Durbin-Watson:                   0.908\n",
      "Prob(Omnibus):                  0.000   Jarque-Bera (JB):               94.635\n",
      "Skew:                           0.973   Prob(JB):                     2.82e-21\n",
      "Kurtosis:                       4.632   Cond. No.                         39.7\n",
      "==============================================================================\n",
      "\n",
      "Notes:\n",
      "[1] Standard Errors are heteroscedasticity robust (HC3)\n"
     ]
    }
   ],
   "source": [
    "hetero_reg=smf.ols(\"ai06 ~ di11\",data=data).fit(cov_type=\"HC3\")\n",
    "print(hetero_reg.summary())"
   ]
  },
  {
   "cell_type": "code",
   "execution_count": 18,
   "metadata": {},
   "outputs": [],
   "source": [
    "data[\"acess\"]=reg_ols.fittedvalues\n",
    "data[\"e\"]=reg_ols.resid"
   ]
  },
  {
   "cell_type": "code",
   "execution_count": 19,
   "metadata": {},
   "outputs": [
    {
     "data": {
      "text/html": [
       "<div>\n",
       "<style scoped>\n",
       "    .dataframe tbody tr th:only-of-type {\n",
       "        vertical-align: middle;\n",
       "    }\n",
       "\n",
       "    .dataframe tbody tr th {\n",
       "        vertical-align: top;\n",
       "    }\n",
       "\n",
       "    .dataframe thead th {\n",
       "        text-align: right;\n",
       "    }\n",
       "</style>\n",
       "<table border=\"1\" class=\"dataframe\">\n",
       "  <thead>\n",
       "    <tr style=\"text-align: right;\">\n",
       "      <th></th>\n",
       "      <th>ai06</th>\n",
       "      <th>di11</th>\n",
       "      <th>acess</th>\n",
       "      <th>e</th>\n",
       "    </tr>\n",
       "  </thead>\n",
       "  <tbody>\n",
       "    <tr>\n",
       "      <th>175</th>\n",
       "      <td>15.915580</td>\n",
       "      <td>1.524666</td>\n",
       "      <td>15.277271</td>\n",
       "      <td>0.638309</td>\n",
       "    </tr>\n",
       "    <tr>\n",
       "      <th>178</th>\n",
       "      <td>14.860410</td>\n",
       "      <td>1.447225</td>\n",
       "      <td>15.238523</td>\n",
       "      <td>-0.378113</td>\n",
       "    </tr>\n",
       "    <tr>\n",
       "      <th>237</th>\n",
       "      <td>8.561610</td>\n",
       "      <td>1.489131</td>\n",
       "      <td>15.259491</td>\n",
       "      <td>-6.697881</td>\n",
       "    </tr>\n",
       "    <tr>\n",
       "      <th>240</th>\n",
       "      <td>7.482739</td>\n",
       "      <td>1.752367</td>\n",
       "      <td>15.391205</td>\n",
       "      <td>-7.908466</td>\n",
       "    </tr>\n",
       "    <tr>\n",
       "      <th>243</th>\n",
       "      <td>8.660982</td>\n",
       "      <td>1.972013</td>\n",
       "      <td>15.501109</td>\n",
       "      <td>-6.840127</td>\n",
       "    </tr>\n",
       "  </tbody>\n",
       "</table>\n",
       "</div>"
      ],
      "text/plain": [
       "          ai06      di11      acess         e\n",
       "175  15.915580  1.524666  15.277271  0.638309\n",
       "178  14.860410  1.447225  15.238523 -0.378113\n",
       "237   8.561610  1.489131  15.259491 -6.697881\n",
       "240   7.482739  1.752367  15.391205 -7.908466\n",
       "243   8.660982  1.972013  15.501109 -6.840127"
      ]
     },
     "execution_count": 19,
     "metadata": {},
     "output_type": "execute_result"
    }
   ],
   "source": [
    "data.head()"
   ]
  },
  {
   "cell_type": "code",
   "execution_count": 20,
   "metadata": {},
   "outputs": [],
   "source": [
    "data['Region']=data_sheet['region']\n",
    "data['Country']=data_sheet['country']\n"
   ]
  },
  {
   "cell_type": "code",
   "execution_count": 21,
   "metadata": {},
   "outputs": [
    {
     "data": {
      "text/html": [
       "<div>\n",
       "<style scoped>\n",
       "    .dataframe tbody tr th:only-of-type {\n",
       "        vertical-align: middle;\n",
       "    }\n",
       "\n",
       "    .dataframe tbody tr th {\n",
       "        vertical-align: top;\n",
       "    }\n",
       "\n",
       "    .dataframe thead th {\n",
       "        text-align: right;\n",
       "    }\n",
       "</style>\n",
       "<table border=\"1\" class=\"dataframe\">\n",
       "  <thead>\n",
       "    <tr style=\"text-align: right;\">\n",
       "      <th></th>\n",
       "      <th>ai06</th>\n",
       "      <th>di11</th>\n",
       "      <th>acess</th>\n",
       "      <th>e</th>\n",
       "      <th>Region</th>\n",
       "      <th>Country</th>\n",
       "    </tr>\n",
       "  </thead>\n",
       "  <tbody>\n",
       "    <tr>\n",
       "      <th>175</th>\n",
       "      <td>15.915580</td>\n",
       "      <td>1.524666</td>\n",
       "      <td>15.277271</td>\n",
       "      <td>0.638309</td>\n",
       "      <td>Sub-Saharan Africa</td>\n",
       "      <td>Angola</td>\n",
       "    </tr>\n",
       "    <tr>\n",
       "      <th>178</th>\n",
       "      <td>14.860410</td>\n",
       "      <td>1.447225</td>\n",
       "      <td>15.238523</td>\n",
       "      <td>-0.378113</td>\n",
       "      <td>Sub-Saharan Africa</td>\n",
       "      <td>Angola</td>\n",
       "    </tr>\n",
       "    <tr>\n",
       "      <th>237</th>\n",
       "      <td>8.561610</td>\n",
       "      <td>1.489131</td>\n",
       "      <td>15.259491</td>\n",
       "      <td>-6.697881</td>\n",
       "      <td>Europe &amp; Central Asia</td>\n",
       "      <td>Albania</td>\n",
       "    </tr>\n",
       "    <tr>\n",
       "      <th>240</th>\n",
       "      <td>7.482739</td>\n",
       "      <td>1.752367</td>\n",
       "      <td>15.391205</td>\n",
       "      <td>-7.908466</td>\n",
       "      <td>Europe &amp; Central Asia</td>\n",
       "      <td>Albania</td>\n",
       "    </tr>\n",
       "    <tr>\n",
       "      <th>243</th>\n",
       "      <td>8.660982</td>\n",
       "      <td>1.972013</td>\n",
       "      <td>15.501109</td>\n",
       "      <td>-6.840127</td>\n",
       "      <td>Europe &amp; Central Asia</td>\n",
       "      <td>Albania</td>\n",
       "    </tr>\n",
       "  </tbody>\n",
       "</table>\n",
       "</div>"
      ],
      "text/plain": [
       "          ai06      di11      acess         e                 Region  Country\n",
       "175  15.915580  1.524666  15.277271  0.638309     Sub-Saharan Africa   Angola\n",
       "178  14.860410  1.447225  15.238523 -0.378113     Sub-Saharan Africa   Angola\n",
       "237   8.561610  1.489131  15.259491 -6.697881  Europe & Central Asia  Albania\n",
       "240   7.482739  1.752367  15.391205 -7.908466  Europe & Central Asia  Albania\n",
       "243   8.660982  1.972013  15.501109 -6.840127  Europe & Central Asia  Albania"
      ]
     },
     "execution_count": 21,
     "metadata": {},
     "output_type": "execute_result"
    }
   ],
   "source": [
    "data.head()"
   ]
  },
  {
   "cell_type": "code",
   "execution_count": 22,
   "metadata": {},
   "outputs": [
    {
     "data": {
      "text/html": [
       "<div>\n",
       "<style scoped>\n",
       "    .dataframe tbody tr th:only-of-type {\n",
       "        vertical-align: middle;\n",
       "    }\n",
       "\n",
       "    .dataframe tbody tr th {\n",
       "        vertical-align: top;\n",
       "    }\n",
       "\n",
       "    .dataframe thead th {\n",
       "        text-align: right;\n",
       "    }\n",
       "</style>\n",
       "<table border=\"1\" class=\"dataframe\">\n",
       "  <thead>\n",
       "    <tr style=\"text-align: right;\">\n",
       "      <th></th>\n",
       "      <th>ai06</th>\n",
       "      <th>di11</th>\n",
       "      <th>acess</th>\n",
       "      <th>e</th>\n",
       "      <th>Region</th>\n",
       "      <th>Country</th>\n",
       "    </tr>\n",
       "  </thead>\n",
       "  <tbody>\n",
       "    <tr>\n",
       "      <th>9047</th>\n",
       "      <td>69.40437</td>\n",
       "      <td>7.340685</td>\n",
       "      <td>18.187416</td>\n",
       "      <td>51.216954</td>\n",
       "      <td>East Asia &amp; Pacific</td>\n",
       "      <td>New Zealand</td>\n",
       "    </tr>\n",
       "    <tr>\n",
       "      <th>9044</th>\n",
       "      <td>70.57188</td>\n",
       "      <td>13.106758</td>\n",
       "      <td>21.072570</td>\n",
       "      <td>49.499310</td>\n",
       "      <td>East Asia &amp; Pacific</td>\n",
       "      <td>New Zealand</td>\n",
       "    </tr>\n",
       "    <tr>\n",
       "      <th>8858</th>\n",
       "      <td>78.41033</td>\n",
       "      <td>45.659724</td>\n",
       "      <td>37.361007</td>\n",
       "      <td>41.049323</td>\n",
       "      <td>Europe &amp; Central Asia</td>\n",
       "      <td>Norway</td>\n",
       "    </tr>\n",
       "    <tr>\n",
       "      <th>8861</th>\n",
       "      <td>79.32737</td>\n",
       "      <td>52.936382</td>\n",
       "      <td>41.002008</td>\n",
       "      <td>38.325362</td>\n",
       "      <td>Europe &amp; Central Asia</td>\n",
       "      <td>Norway</td>\n",
       "    </tr>\n",
       "    <tr>\n",
       "      <th>615</th>\n",
       "      <td>62.12402</td>\n",
       "      <td>18.656916</td>\n",
       "      <td>23.849687</td>\n",
       "      <td>38.274333</td>\n",
       "      <td>East Asia &amp; Pacific</td>\n",
       "      <td>Australia</td>\n",
       "    </tr>\n",
       "  </tbody>\n",
       "</table>\n",
       "</div>"
      ],
      "text/plain": [
       "          ai06       di11      acess          e                 Region  \\\n",
       "9047  69.40437   7.340685  18.187416  51.216954    East Asia & Pacific   \n",
       "9044  70.57188  13.106758  21.072570  49.499310    East Asia & Pacific   \n",
       "8858  78.41033  45.659724  37.361007  41.049323  Europe & Central Asia   \n",
       "8861  79.32737  52.936382  41.002008  38.325362  Europe & Central Asia   \n",
       "615   62.12402  18.656916  23.849687  38.274333    East Asia & Pacific   \n",
       "\n",
       "          Country  \n",
       "9047  New Zealand  \n",
       "9044  New Zealand  \n",
       "8858       Norway  \n",
       "8861       Norway  \n",
       "615     Australia  "
      ]
     },
     "execution_count": 22,
     "metadata": {},
     "output_type": "execute_result"
    }
   ],
   "source": [
    "data.sort_values(by='e',ascending=False).head()"
   ]
  },
  {
   "cell_type": "code",
   "execution_count": 23,
   "metadata": {},
   "outputs": [
    {
     "data": {
      "image/png": "[encoded data removed]",
      "text/plain": [
       "<Figure size 640x480 with 1 Axes>"
      ]
     },
     "metadata": {},
     "output_type": "display_data"
    }
   ],
   "source": [
    "sns.histplot(data=data, x='e', binwidth=15, stat=\"probability\", color=\"magenta\", alpha=0.8, edgecolor=\"black\", linewidth=0.3)\n",
    "\n",
    "\n",
    "plt.xlabel(\"Residuals\")\n",
    "plt.ylabel(\"Percent\")\n",
    "plt.xlim(-51, 100)\n",
    "plt.ylim(0, 0.45)\n",
    "plt.xticks(np.arange(-51, 51, 60))\n",
    "plt.yticks(np.arange(0, 0.45, 0.10), labels=[f\"{x:.0%}\" for x in np.arange(0, 0.45, 0.10)])\n",
    "\n",
    "plt.show()"
   ]
  },
  {
   "cell_type": "code",
   "execution_count": 24,
   "metadata": {},
   "outputs": [
    {
     "data": {
      "text/plain": [
       "TtestResult(statistic=2.9284681990316437, pvalue=0.0034392480240691666, df=2342)"
      ]
     },
     "execution_count": 24,
     "metadata": {},
     "output_type": "execute_result"
    }
   ],
   "source": [
    "from scipy import stats\n",
    "stats.ttest_1samp(data_z['si01'],16)        #z-score H0 = 16 , z-score non 16 HA != 16 "
   ]
  },
  {
   "cell_type": "code",
   "execution_count": 25,
   "metadata": {},
   "outputs": [
    {
     "data": {
      "text/plain": [
       "TtestResult(statistic=2.9284681990316437, pvalue=0.0017196240120345833, df=2342)"
      ]
     },
     "execution_count": 25,
     "metadata": {},
     "output_type": "execute_result"
    }
   ],
   "source": [
    "stats.ttest_1samp(data_z['si01'],16,alternative=\"greater\")  #z-score H0 = 16 , z-score non 16 HA > 16 \n"
   ]
  },
  {
   "cell_type": "code",
   "execution_count": 26,
   "metadata": {},
   "outputs": [
    {
     "data": {
      "text/plain": [
       "TtestResult(statistic=2.9284681990316437, pvalue=0.9982803759879655, df=2342)"
      ]
     },
     "execution_count": 26,
     "metadata": {},
     "output_type": "execute_result"
    }
   ],
   "source": [
    "stats.ttest_1samp(data_z['si01'],16,alternative=\"less\")      #z-score H0 = 16 , z-score non 16 HA < 16 \n",
    "\n"
   ]
  },
  {
   "cell_type": "code",
   "execution_count": 27,
   "metadata": {},
   "outputs": [],
   "source": [
    "data_z['Region']=data_sheet['region']\n",
    "a = data_z.groupby(\"Region\").agg(\n",
    "    mean_zscore=(\"si01\", \"mean\"),     \n",
    "    se_zscore=(\"si01\", \"sem\"),        \n",
    "    num_zscore=(\"si01\", \"size\")       \n",
    ")"
   ]
  },
  {
   "cell_type": "code",
   "execution_count": 33,
   "metadata": {},
   "outputs": [
    {
     "name": "stdout",
     "output_type": "stream",
     "text": [
      "Region: Latin America & Caribbean, Confidence Interval: (17.97886810024295, 20.374417891608907)\n",
      "Region: South Asia, Confidence Interval: (12.43522540087399, 13.692550087984332)\n",
      "Region: Sub-Saharan Africa, Confidence Interval: (16.377332376817453, 18.04955546888279)\n",
      "Region: Europe & Central Asia, Confidence Interval: (22.098324121541793, 25.08255265218083)\n",
      "Region: Middle East & North Africa, Confidence Interval: (21.2572740407241, 25.895212470903807)\n",
      "Region: East Asia & Pacific, Confidence Interval: (18.94865798358765, 22.078215876412344)\n",
      "Region: North America, Confidence Interval: (14.098541361324914, 15.130560240207652)\n"
     ]
    }
   ],
   "source": [
    "from scipy.stats import norm # type: ignore\n",
    "\n",
    "regions = data_sheet['region'].unique()\n",
    "\n",
    "mean_zscores = a['mean_zscore'].tolist()\n",
    "se_zscores = a['se_zscore'].tolist()\n",
    "num_zscores = a['num_zscore'].tolist()\n",
    "\n",
    "confidence_level = 0.95\n",
    "\n",
    "\n",
    "critical_value = norm.ppf((1 + confidence_level) / 2)\n",
    "\n",
    "\n",
    "confidence_intervals = []\n",
    "for i in range(len(regions)):\n",
    "    margin_of_error = critical_value * se_zscores[i]\n",
    "    lower_bound = mean_zscores[i] - margin_of_error\n",
    "    upper_bound = mean_zscores[i] + margin_of_error\n",
    "    confidence_intervals.append((lower_bound, upper_bound))\n",
    "\n",
    "\n",
    "for i in range(len(regions)):\n",
    "    print(f\"Region: {regions[i]}, Confidence Interval: {confidence_intervals[i]}\")\n"
   ]
  }
 ],
 "metadata": {
  "kernelspec": {
   "display_name": "Python 3",
   "language": "python",
   "name": "python3"
  },
  "language_info": {
   "codemirror_mode": {
    "name": "ipython",
    "version": 3
   },
   "file_extension": ".py",
   "mimetype": "text/x-python",
   "name": "python",
   "nbconvert_exporter": "python",
   "pygments_lexer": "ipython3",
   "version": "3.12.3"
  }
 },
 "nbformat": 4,
 "nbformat_minor": 2
}
