{
 "cells": [
  {
   "cell_type": "code",
   "execution_count": 1,
   "metadata": {},
   "outputs": [
    {
     "name": "stdout",
     "output_type": "stream",
     "text": [
      "ai01  ai25    0.983578\n",
      "ai03  ai04    0.971387\n",
      "di01  di12    0.961662\n",
      "      di02    0.961380\n",
      "ai10  ai24    0.958142\n",
      "dm05  dm07    0.954033\n",
      "ai02  ai25    0.951541\n",
      "ai01  ai02    0.951524\n",
      "ai05  ai21    0.938269\n",
      "di02  di12    0.928370\n",
      "di05  di08    0.922856\n",
      "ai11  ai21    0.919914\n",
      "ai29  ai35    0.916513\n",
      "ai21  ai22    0.909485\n",
      "ai11  ai22    0.894896\n",
      "ai05  ai22    0.890884\n",
      "      ai11    0.885561\n",
      "ai06  ai11    0.865138\n",
      "ai28  ai34    0.864621\n",
      "ai06  ai22    0.845817\n",
      "ai11  ai20    0.838851\n",
      "ai06  ai20    0.837401\n",
      "ai07  ai20    0.830942\n",
      "ai05  ai06    0.828884\n",
      "ai06  ai21    0.825395\n",
      "ai03  ai29    0.825370\n",
      "ai20  ai22    0.825205\n",
      "ai07  ai11    0.821450\n",
      "dm01  dm02    0.820997\n",
      "ai06  ai12    0.816242\n",
      "di05  di07    0.814101\n",
      "ai07  ai22    0.810630\n",
      "ai05  ai20    0.798372\n",
      "ai03  ai35    0.797157\n",
      "ai20  ai21    0.795219\n",
      "ai04  ai29    0.793575\n",
      "am01  am02    0.793133\n",
      "dm12  dm13    0.790041\n",
      "ai06  ai07    0.778030\n",
      "di02  di08    0.776138\n",
      "di09  di11    0.775925\n",
      "di03  di11    0.771483\n",
      "ai04  ai35    0.762185\n",
      "di07  dm09    0.760470\n",
      "ai28  ai29    0.754510\n",
      "ai06  di11    0.750645\n",
      "ai03  ai34    0.744684\n",
      "ai07  ai21    0.738248\n",
      "di01  di08    0.737695\n",
      "di03  di12    0.735419\n",
      "dtype: float64\n",
      "Best columns for linear regression: ai01 and ai25\n"
     ]
    }
   ],
   "source": [
    "import pandas as pd\n",
    "import numpy as np\n",
    "\n",
    "# Load the data from the Excel file\n",
    "data_sheet = pd.read_excel('Global_Financial_Development_Database.xlsx')\n",
    "\n",
    "# Calculate the correlation matrix to find the best pairs of columns for linear regression\n",
    "numeric_data = data_sheet.select_dtypes(include=[np.number])\n",
    "\n",
    "# Calculate the correlation matrix to find the best pairs of columns for linear regression\n",
    "correlation_matrix = numeric_data.corr()\n",
    "\n",
    "# Select the upper triangle of the correlation matrix\n",
    "upper_triangle = correlation_matrix.where(np.triu(np.ones(correlation_matrix.shape), k=1).astype(bool))\n",
    "\n",
    "# Find pairs of columns with the highest correlation coefficients\n",
    "high_correlation_pairs = upper_triangle.stack().sort_values(ascending=False)\n",
    "\n",
    "# Filter and display the top 10 pairs with the highest correlation coefficients\n",
    "top_10_pairs = high_correlation_pairs.head(70)\n",
    "\n",
    "# Filter column names starting with 'a' or 'd'\n",
    "filtered_pairs = top_10_pairs[top_10_pairs.index.get_level_values(0).str.startswith(('a', 'd')) \n",
    "                              & top_10_pairs.index.get_level_values(1).str.startswith(('a', 'd'))]\n",
    "\n",
    "# Print the filtered pairs\n",
    "print(filtered_pairs)\n",
    "\n",
    "# Select the best pair for linear regression\n",
    "best_pair = filtered_pairs.index[0]\n",
    "column1, column2 = best_pair\n",
    "\n",
    "print(f\"Best columns for linear regression: {column1} and {column2}\")"
   ]
  },
  {
   "cell_type": "code",
   "execution_count": 4,
   "metadata": {},
   "outputs": [],
   "source": [
    "financial_system_deposits = data_sheet['ai03']\n",
    "bank_deposits = data_sheet['di02']\n",
    "\n",
    "# Drop rows with missing values\n",
    "data = pd.DataFrame({'ai03': financial_system_deposits, \n",
    "                     'di02': bank_deposits}).dropna()"
   ]
  },
  {
   "cell_type": "code",
   "execution_count": 5,
   "metadata": {},
   "outputs": [
    {
     "data": {
      "text/html": [
       "<div>\n",
       "<style scoped>\n",
       "    .dataframe tbody tr th:only-of-type {\n",
       "        vertical-align: middle;\n",
       "    }\n",
       "\n",
       "    .dataframe tbody tr th {\n",
       "        vertical-align: top;\n",
       "    }\n",
       "\n",
       "    .dataframe thead th {\n",
       "        text-align: right;\n",
       "    }\n",
       "</style>\n",
       "<table border=\"1\" class=\"dataframe\">\n",
       "  <thead>\n",
       "    <tr style=\"text-align: right;\">\n",
       "      <th></th>\n",
       "      <th>ai03</th>\n",
       "      <th>di02</th>\n",
       "    </tr>\n",
       "  </thead>\n",
       "  <tbody>\n",
       "    <tr>\n",
       "      <th>110</th>\n",
       "      <td>3.4</td>\n",
       "      <td>10.256330</td>\n",
       "    </tr>\n",
       "    <tr>\n",
       "      <th>116</th>\n",
       "      <td>5.1</td>\n",
       "      <td>3.721632</td>\n",
       "    </tr>\n",
       "    <tr>\n",
       "      <th>170</th>\n",
       "      <td>4.1</td>\n",
       "      <td>8.063166</td>\n",
       "    </tr>\n",
       "    <tr>\n",
       "      <th>174</th>\n",
       "      <td>9.5</td>\n",
       "      <td>33.381530</td>\n",
       "    </tr>\n",
       "    <tr>\n",
       "      <th>233</th>\n",
       "      <td>42.2</td>\n",
       "      <td>56.709900</td>\n",
       "    </tr>\n",
       "  </tbody>\n",
       "</table>\n",
       "</div>"
      ],
      "text/plain": [
       "     ai03       di02\n",
       "110   3.4  10.256330\n",
       "116   5.1   3.721632\n",
       "170   4.1   8.063166\n",
       "174   9.5  33.381530\n",
       "233  42.2  56.709900"
      ]
     },
     "execution_count": 5,
     "metadata": {},
     "output_type": "execute_result"
    }
   ],
   "source": [
    "data.head()"
   ]
  },
  {
   "cell_type": "code",
   "execution_count": 6,
   "metadata": {},
   "outputs": [
    {
     "data": {
      "text/plain": [
       "<matplotlib.collections.PathCollection at 0x20dd0c3b470>"
      ]
     },
     "execution_count": 6,
     "metadata": {},
     "output_type": "execute_result"
    },
    {
     "data": {
      "image/png": "[encoded data removed]",
      "text/plain": [
       "<Figure size 640x480 with 1 Axes>"
      ]
     },
     "metadata": {},
     "output_type": "display_data"
    }
   ],
   "source": [
    "import matplotlib.pyplot as plt\n",
    "plt.scatter(data['ai03'], data['di02'])"
   ]
  },
  {
   "cell_type": "code",
   "execution_count": 7,
   "metadata": {},
   "outputs": [
    {
     "data": {
      "text/plain": [
       "0.10775681311948704"
      ]
     },
     "execution_count": 7,
     "metadata": {},
     "output_type": "execute_result"
    }
   ],
   "source": [
    "from sklearn.linear_model import LinearRegression\n",
    "model=LinearRegression()\n",
    "\n",
    "model.fit(data[['ai03']], data[['di02']])\n",
    "model.score(data[['ai03']], data[['di02']])\n",
    "\n"
   ]
  },
  {
   "cell_type": "code",
   "execution_count": 9,
   "metadata": {},
   "outputs": [
    {
     "data": {
      "text/plain": [
       "[<matplotlib.lines.Line2D at 0x20de90b55b0>]"
      ]
     },
     "execution_count": 9,
     "metadata": {},
     "output_type": "execute_result"
    },
    {
     "data": {
      "image/png": "[encoded data removed]",
      "text/plain": [
       "<Figure size 640x480 with 1 Axes>"
      ]
     },
     "metadata": {},
     "output_type": "display_data"
    }
   ],
   "source": [
    "predictions = model.predict(data[['ai03']])\n",
    "plt.scatter(data['ai03'], data['di02'])\n",
    "plt.plot(data['ai03'], predictions, color='red')\n",
    "\n"
   ]
  },
  {
   "cell_type": "code",
   "execution_count": 10,
   "metadata": {},
   "outputs": [
    {
     "data": {
      "text/html": [
       "<div>\n",
       "<style scoped>\n",
       "    .dataframe tbody tr th:only-of-type {\n",
       "        vertical-align: middle;\n",
       "    }\n",
       "\n",
       "    .dataframe tbody tr th {\n",
       "        vertical-align: top;\n",
       "    }\n",
       "\n",
       "    .dataframe thead th {\n",
       "        text-align: right;\n",
       "    }\n",
       "</style>\n",
       "<table border=\"1\" class=\"dataframe\">\n",
       "  <thead>\n",
       "    <tr style=\"text-align: right;\">\n",
       "      <th></th>\n",
       "      <th>count</th>\n",
       "      <th>mean</th>\n",
       "      <th>std</th>\n",
       "      <th>min</th>\n",
       "      <th>25%</th>\n",
       "      <th>50%</th>\n",
       "      <th>75%</th>\n",
       "      <th>95%</th>\n",
       "      <th>max</th>\n",
       "    </tr>\n",
       "  </thead>\n",
       "  <tbody>\n",
       "    <tr>\n",
       "      <th>ai03</th>\n",
       "      <td>292.0</td>\n",
       "      <td>34.548973</td>\n",
       "      <td>17.728191</td>\n",
       "      <td>2.7</td>\n",
       "      <td>19.9</td>\n",
       "      <td>35.5</td>\n",
       "      <td>47.3</td>\n",
       "      <td>63.875</td>\n",
       "      <td>79.6</td>\n",
       "    </tr>\n",
       "  </tbody>\n",
       "</table>\n",
       "</div>"
      ],
      "text/plain": [
       "      count       mean        std  min   25%   50%   75%     95%   max\n",
       "ai03  292.0  34.548973  17.728191  2.7  19.9  35.5  47.3  63.875  79.6"
      ]
     },
     "execution_count": 10,
     "metadata": {},
     "output_type": "execute_result"
    }
   ],
   "source": [
    "data.filter(['ai03', 'di11']).describe(percentiles=[0.25,0.5,0.75,0.95]).T"
   ]
  },
  {
   "cell_type": "code",
   "execution_count": 11,
   "metadata": {},
   "outputs": [],
   "source": [
    "data_z = data_sheet[['year', 'si01']]\n",
    "data_z1 = data_sheet[['year', 'si01']]"
   ]
  },
  {
   "cell_type": "code",
   "execution_count": 12,
   "metadata": {},
   "outputs": [
    {
     "data": {
      "text/html": [
       "<div>\n",
       "<style scoped>\n",
       "    .dataframe tbody tr th:only-of-type {\n",
       "        vertical-align: middle;\n",
       "    }\n",
       "\n",
       "    .dataframe tbody tr th {\n",
       "        vertical-align: top;\n",
       "    }\n",
       "\n",
       "    .dataframe thead th {\n",
       "        text-align: right;\n",
       "    }\n",
       "</style>\n",
       "<table border=\"1\" class=\"dataframe\">\n",
       "  <thead>\n",
       "    <tr style=\"text-align: right;\">\n",
       "      <th></th>\n",
       "      <th>year</th>\n",
       "      <th>si01</th>\n",
       "    </tr>\n",
       "  </thead>\n",
       "  <tbody>\n",
       "    <tr>\n",
       "      <th>0</th>\n",
       "      <td>1960</td>\n",
       "      <td>NaN</td>\n",
       "    </tr>\n",
       "    <tr>\n",
       "      <th>1</th>\n",
       "      <td>1961</td>\n",
       "      <td>NaN</td>\n",
       "    </tr>\n",
       "    <tr>\n",
       "      <th>2</th>\n",
       "      <td>1962</td>\n",
       "      <td>NaN</td>\n",
       "    </tr>\n",
       "    <tr>\n",
       "      <th>3</th>\n",
       "      <td>1963</td>\n",
       "      <td>NaN</td>\n",
       "    </tr>\n",
       "    <tr>\n",
       "      <th>4</th>\n",
       "      <td>1964</td>\n",
       "      <td>NaN</td>\n",
       "    </tr>\n",
       "  </tbody>\n",
       "</table>\n",
       "</div>"
      ],
      "text/plain": [
       "   year  si01\n",
       "0  1960   NaN\n",
       "1  1961   NaN\n",
       "2  1962   NaN\n",
       "3  1963   NaN\n",
       "4  1964   NaN"
      ]
     },
     "execution_count": 12,
     "metadata": {},
     "output_type": "execute_result"
    }
   ],
   "source": [
    "data_z.head()"
   ]
  },
  {
   "cell_type": "code",
   "execution_count": 13,
   "metadata": {},
   "outputs": [],
   "source": [
    "data_z = pd.DataFrame({'si01': data_z['si01']}).dropna()"
   ]
  },
  {
   "cell_type": "code",
   "execution_count": 14,
   "metadata": {},
   "outputs": [
    {
     "data": {
      "text/html": [
       "<div>\n",
       "<style scoped>\n",
       "    .dataframe tbody tr th:only-of-type {\n",
       "        vertical-align: middle;\n",
       "    }\n",
       "\n",
       "    .dataframe tbody tr th {\n",
       "        vertical-align: top;\n",
       "    }\n",
       "\n",
       "    .dataframe thead th {\n",
       "        text-align: right;\n",
       "    }\n",
       "</style>\n",
       "<table border=\"1\" class=\"dataframe\">\n",
       "  <thead>\n",
       "    <tr style=\"text-align: right;\">\n",
       "      <th></th>\n",
       "      <th>si01</th>\n",
       "      <th>year</th>\n",
       "    </tr>\n",
       "  </thead>\n",
       "  <tbody>\n",
       "    <tr>\n",
       "      <th>108</th>\n",
       "      <td>48.99729</td>\n",
       "      <td>2006</td>\n",
       "    </tr>\n",
       "    <tr>\n",
       "      <th>109</th>\n",
       "      <td>31.96604</td>\n",
       "      <td>2007</td>\n",
       "    </tr>\n",
       "    <tr>\n",
       "      <th>110</th>\n",
       "      <td>19.94573</td>\n",
       "      <td>2008</td>\n",
       "    </tr>\n",
       "    <tr>\n",
       "      <th>111</th>\n",
       "      <td>26.69275</td>\n",
       "      <td>2009</td>\n",
       "    </tr>\n",
       "    <tr>\n",
       "      <th>112</th>\n",
       "      <td>24.95099</td>\n",
       "      <td>2010</td>\n",
       "    </tr>\n",
       "  </tbody>\n",
       "</table>\n",
       "</div>"
      ],
      "text/plain": [
       "         si01  year\n",
       "108  48.99729  2006\n",
       "109  31.96604  2007\n",
       "110  19.94573  2008\n",
       "111  26.69275  2009\n",
       "112  24.95099  2010"
      ]
     },
     "execution_count": 14,
     "metadata": {},
     "output_type": "execute_result"
    }
   ],
   "source": [
    "data_z['year']=data_sheet['year']\n",
    "data_z.head()"
   ]
  },
  {
   "cell_type": "code",
   "execution_count": 15,
   "metadata": {},
   "outputs": [
    {
     "data": {
      "text/html": [
       "<div>\n",
       "<style scoped>\n",
       "    .dataframe tbody tr th:only-of-type {\n",
       "        vertical-align: middle;\n",
       "    }\n",
       "\n",
       "    .dataframe tbody tr th {\n",
       "        vertical-align: top;\n",
       "    }\n",
       "\n",
       "    .dataframe thead th {\n",
       "        text-align: right;\n",
       "    }\n",
       "</style>\n",
       "<table border=\"1\" class=\"dataframe\">\n",
       "  <thead>\n",
       "    <tr style=\"text-align: right;\">\n",
       "      <th></th>\n",
       "      <th>count</th>\n",
       "      <th>mean</th>\n",
       "      <th>std</th>\n",
       "      <th>min</th>\n",
       "      <th>25%</th>\n",
       "      <th>50%</th>\n",
       "      <th>75%</th>\n",
       "      <th>max</th>\n",
       "    </tr>\n",
       "  </thead>\n",
       "  <tbody>\n",
       "    <tr>\n",
       "      <th>si01</th>\n",
       "      <td>2343.0</td>\n",
       "      <td>16.576487</td>\n",
       "      <td>9.528736</td>\n",
       "      <td>-0.325974</td>\n",
       "      <td>9.590345</td>\n",
       "      <td>15.33082</td>\n",
       "      <td>20.523035</td>\n",
       "      <td>66.63377</td>\n",
       "    </tr>\n",
       "    <tr>\n",
       "      <th>year</th>\n",
       "      <td>2343.0</td>\n",
       "      <td>2014.016219</td>\n",
       "      <td>4.256877</td>\n",
       "      <td>2007.000000</td>\n",
       "      <td>2010.000000</td>\n",
       "      <td>2014.00000</td>\n",
       "      <td>2018.000000</td>\n",
       "      <td>2021.00000</td>\n",
       "    </tr>\n",
       "  </tbody>\n",
       "</table>\n",
       "</div>"
      ],
      "text/plain": [
       "       count         mean       std          min          25%         50%  \\\n",
       "si01  2343.0    16.576487  9.528736    -0.325974     9.590345    15.33082   \n",
       "year  2343.0  2014.016219  4.256877  2007.000000  2010.000000  2014.00000   \n",
       "\n",
       "              75%         max  \n",
       "si01    20.523035    66.63377  \n",
       "year  2018.000000  2021.00000  "
      ]
     },
     "execution_count": 15,
     "metadata": {},
     "output_type": "execute_result"
    }
   ],
   "source": [
    "data_z = data_z[data_z['year'] > 2006]\n",
    "data_z.describe().T"
   ]
  },
  {
   "cell_type": "code",
   "execution_count": 17,
   "metadata": {},
   "outputs": [
    {
     "name": "stdout",
     "output_type": "stream",
     "text": [
      "                            OLS Regression Results                            \n",
      "==============================================================================\n",
      "Dep. Variable:                   ai03   R-squared:                       0.108\n",
      "Model:                            OLS   Adj. R-squared:                  0.105\n",
      "Method:                 Least Squares   F-statistic:                     35.02\n",
      "Date:                Thu, 04 Jul 2024   Prob (F-statistic):           9.18e-09\n",
      "Time:                        11:42:14   Log-Likelihood:                -1236.7\n",
      "No. Observations:                 292   AIC:                             2477.\n",
      "Df Residuals:                     290   BIC:                             2485.\n",
      "Df Model:                           1                                         \n",
      "Covariance Type:            nonrobust                                         \n",
      "==============================================================================\n",
      "                 coef    std err          t      P>|t|      [0.025      0.975]\n",
      "------------------------------------------------------------------------------\n",
      "Intercept     26.0437      1.740     14.964      0.000      22.618      29.469\n",
      "di02           0.1740      0.029      5.918      0.000       0.116       0.232\n",
      "==============================================================================\n",
      "Omnibus:                        5.766   Durbin-Watson:                   1.235\n",
      "Prob(Omnibus):                  0.056   Jarque-Bera (JB):                3.887\n",
      "Skew:                           0.121   Prob(JB):                        0.143\n",
      "Kurtosis:                       2.489   Cond. No.                         105.\n",
      "==============================================================================\n",
      "\n",
      "Notes:\n",
      "[1] Standard Errors assume that the covariance matrix of the errors is correctly specified.\n"
     ]
    }
   ],
   "source": [
    "import statsmodels.api as sm\n",
    "import statsmodels.formula.api as smf\n",
    "data.head()\n",
    "reg_ols=smf.ols(\"ai03 ~ di02\",data=data).fit()\n",
    "print(reg_ols.summary())\n"
   ]
  },
  {
   "cell_type": "code",
   "execution_count": 19,
   "metadata": {},
   "outputs": [
    {
     "name": "stdout",
     "output_type": "stream",
     "text": [
      "                            OLS Regression Results                            \n",
      "==============================================================================\n",
      "Dep. Variable:                   ai03   R-squared:                       0.108\n",
      "Model:                            OLS   Adj. R-squared:                  0.105\n",
      "Method:                 Least Squares   F-statistic:                     26.13\n",
      "Date:                Thu, 04 Jul 2024   Prob (F-statistic):           5.80e-07\n",
      "Time:                        11:42:34   Log-Likelihood:                -1236.7\n",
      "No. Observations:                 292   AIC:                             2477.\n",
      "Df Residuals:                     290   BIC:                             2485.\n",
      "Df Model:                           1                                         \n",
      "Covariance Type:                  HC3                                         \n",
      "==============================================================================\n",
      "                 coef    std err          z      P>|z|      [0.025      0.975]\n",
      "------------------------------------------------------------------------------\n",
      "Intercept     26.0437      1.849     14.085      0.000      22.420      29.668\n",
      "di02           0.1740      0.034      5.112      0.000       0.107       0.241\n",
      "==============================================================================\n",
      "Omnibus:                        5.766   Durbin-Watson:                   1.235\n",
      "Prob(Omnibus):                  0.056   Jarque-Bera (JB):                3.887\n",
      "Skew:                           0.121   Prob(JB):                        0.143\n",
      "Kurtosis:                       2.489   Cond. No.                         105.\n",
      "==============================================================================\n",
      "\n",
      "Notes:\n",
      "[1] Standard Errors are heteroscedasticity robust (HC3)\n"
     ]
    }
   ],
   "source": [
    "hetero_reg=smf.ols(\"ai03 ~ di02\",data=data).fit(cov_type=\"HC3\")\n",
    "print(hetero_reg.summary())"
   ]
  },
  {
   "cell_type": "code",
   "execution_count": 20,
   "metadata": {},
   "outputs": [],
   "source": [
    "data[\"acess\"]=reg_ols.fittedvalues\n",
    "data[\"e\"]=reg_ols.resid"
   ]
  },
  {
   "cell_type": "code",
   "execution_count": 21,
   "metadata": {},
   "outputs": [
    {
     "data": {
      "text/html": [
       "<div>\n",
       "<style scoped>\n",
       "    .dataframe tbody tr th:only-of-type {\n",
       "        vertical-align: middle;\n",
       "    }\n",
       "\n",
       "    .dataframe tbody tr th {\n",
       "        vertical-align: top;\n",
       "    }\n",
       "\n",
       "    .dataframe thead th {\n",
       "        text-align: right;\n",
       "    }\n",
       "</style>\n",
       "<table border=\"1\" class=\"dataframe\">\n",
       "  <thead>\n",
       "    <tr style=\"text-align: right;\">\n",
       "      <th></th>\n",
       "      <th>ai03</th>\n",
       "      <th>di02</th>\n",
       "      <th>acess</th>\n",
       "      <th>e</th>\n",
       "    </tr>\n",
       "  </thead>\n",
       "  <tbody>\n",
       "    <tr>\n",
       "      <th>110</th>\n",
       "      <td>3.4</td>\n",
       "      <td>10.256330</td>\n",
       "      <td>27.828114</td>\n",
       "      <td>-24.428114</td>\n",
       "    </tr>\n",
       "    <tr>\n",
       "      <th>116</th>\n",
       "      <td>5.1</td>\n",
       "      <td>3.721632</td>\n",
       "      <td>26.691209</td>\n",
       "      <td>-21.591209</td>\n",
       "    </tr>\n",
       "    <tr>\n",
       "      <th>170</th>\n",
       "      <td>4.1</td>\n",
       "      <td>8.063166</td>\n",
       "      <td>27.446548</td>\n",
       "      <td>-23.346548</td>\n",
       "    </tr>\n",
       "    <tr>\n",
       "      <th>174</th>\n",
       "      <td>9.5</td>\n",
       "      <td>33.381530</td>\n",
       "      <td>31.851427</td>\n",
       "      <td>-22.351427</td>\n",
       "    </tr>\n",
       "    <tr>\n",
       "      <th>233</th>\n",
       "      <td>42.2</td>\n",
       "      <td>56.709900</td>\n",
       "      <td>35.910088</td>\n",
       "      <td>6.289912</td>\n",
       "    </tr>\n",
       "  </tbody>\n",
       "</table>\n",
       "</div>"
      ],
      "text/plain": [
       "     ai03       di02      acess          e\n",
       "110   3.4  10.256330  27.828114 -24.428114\n",
       "116   5.1   3.721632  26.691209 -21.591209\n",
       "170   4.1   8.063166  27.446548 -23.346548\n",
       "174   9.5  33.381530  31.851427 -22.351427\n",
       "233  42.2  56.709900  35.910088   6.289912"
      ]
     },
     "execution_count": 21,
     "metadata": {},
     "output_type": "execute_result"
    }
   ],
   "source": [
    "data.head()"
   ]
  },
  {
   "cell_type": "code",
   "execution_count": 22,
   "metadata": {},
   "outputs": [],
   "source": [
    "data['Region']=data_sheet['region']\n",
    "data['Country']=data_sheet['country']\n"
   ]
  },
  {
   "cell_type": "code",
   "execution_count": 23,
   "metadata": {},
   "outputs": [
    {
     "data": {
      "text/html": [
       "<div>\n",
       "<style scoped>\n",
       "    .dataframe tbody tr th:only-of-type {\n",
       "        vertical-align: middle;\n",
       "    }\n",
       "\n",
       "    .dataframe tbody tr th {\n",
       "        vertical-align: top;\n",
       "    }\n",
       "\n",
       "    .dataframe thead th {\n",
       "        text-align: right;\n",
       "    }\n",
       "</style>\n",
       "<table border=\"1\" class=\"dataframe\">\n",
       "  <thead>\n",
       "    <tr style=\"text-align: right;\">\n",
       "      <th></th>\n",
       "      <th>ai03</th>\n",
       "      <th>di02</th>\n",
       "      <th>acess</th>\n",
       "      <th>e</th>\n",
       "      <th>Region</th>\n",
       "      <th>Country</th>\n",
       "    </tr>\n",
       "  </thead>\n",
       "  <tbody>\n",
       "    <tr>\n",
       "      <th>110</th>\n",
       "      <td>3.4</td>\n",
       "      <td>10.256330</td>\n",
       "      <td>27.828114</td>\n",
       "      <td>-24.428114</td>\n",
       "      <td>South Asia</td>\n",
       "      <td>Afghanistan</td>\n",
       "    </tr>\n",
       "    <tr>\n",
       "      <th>116</th>\n",
       "      <td>5.1</td>\n",
       "      <td>3.721632</td>\n",
       "      <td>26.691209</td>\n",
       "      <td>-21.591209</td>\n",
       "      <td>South Asia</td>\n",
       "      <td>Afghanistan</td>\n",
       "    </tr>\n",
       "    <tr>\n",
       "      <th>170</th>\n",
       "      <td>4.1</td>\n",
       "      <td>8.063166</td>\n",
       "      <td>27.446548</td>\n",
       "      <td>-23.346548</td>\n",
       "      <td>Sub-Saharan Africa</td>\n",
       "      <td>Angola</td>\n",
       "    </tr>\n",
       "    <tr>\n",
       "      <th>174</th>\n",
       "      <td>9.5</td>\n",
       "      <td>33.381530</td>\n",
       "      <td>31.851427</td>\n",
       "      <td>-22.351427</td>\n",
       "      <td>Sub-Saharan Africa</td>\n",
       "      <td>Angola</td>\n",
       "    </tr>\n",
       "    <tr>\n",
       "      <th>233</th>\n",
       "      <td>42.2</td>\n",
       "      <td>56.709900</td>\n",
       "      <td>35.910088</td>\n",
       "      <td>6.289912</td>\n",
       "      <td>Europe &amp; Central Asia</td>\n",
       "      <td>Albania</td>\n",
       "    </tr>\n",
       "  </tbody>\n",
       "</table>\n",
       "</div>"
      ],
      "text/plain": [
       "     ai03       di02      acess          e                 Region      Country\n",
       "110   3.4  10.256330  27.828114 -24.428114             South Asia  Afghanistan\n",
       "116   5.1   3.721632  26.691209 -21.591209             South Asia  Afghanistan\n",
       "170   4.1   8.063166  27.446548 -23.346548     Sub-Saharan Africa       Angola\n",
       "174   9.5  33.381530  31.851427 -22.351427     Sub-Saharan Africa       Angola\n",
       "233  42.2  56.709900  35.910088   6.289912  Europe & Central Asia      Albania"
      ]
     },
     "execution_count": 23,
     "metadata": {},
     "output_type": "execute_result"
    }
   ],
   "source": [
    "data.head()"
   ]
  },
  {
   "cell_type": "code",
   "execution_count": 24,
   "metadata": {},
   "outputs": [
    {
     "data": {
      "text/html": [
       "<div>\n",
       "<style scoped>\n",
       "    .dataframe tbody tr th:only-of-type {\n",
       "        vertical-align: middle;\n",
       "    }\n",
       "\n",
       "    .dataframe tbody tr th {\n",
       "        vertical-align: top;\n",
       "    }\n",
       "\n",
       "    .dataframe thead th {\n",
       "        text-align: right;\n",
       "    }\n",
       "</style>\n",
       "<table border=\"1\" class=\"dataframe\">\n",
       "  <thead>\n",
       "    <tr style=\"text-align: right;\">\n",
       "      <th></th>\n",
       "      <th>ai03</th>\n",
       "      <th>di02</th>\n",
       "      <th>acess</th>\n",
       "      <th>e</th>\n",
       "      <th>Region</th>\n",
       "      <th>Country</th>\n",
       "    </tr>\n",
       "  </thead>\n",
       "  <tbody>\n",
       "    <tr>\n",
       "      <th>9295</th>\n",
       "      <td>77.8</td>\n",
       "      <td>46.87016</td>\n",
       "      <td>34.198174</td>\n",
       "      <td>43.601826</td>\n",
       "      <td>Latin America &amp; Caribbean</td>\n",
       "      <td>Peru</td>\n",
       "    </tr>\n",
       "    <tr>\n",
       "      <th>2158</th>\n",
       "      <td>79.6</td>\n",
       "      <td>68.09574</td>\n",
       "      <td>37.890992</td>\n",
       "      <td>41.709008</td>\n",
       "      <td>Latin America &amp; Caribbean</td>\n",
       "      <td>Chile</td>\n",
       "    </tr>\n",
       "    <tr>\n",
       "      <th>9284</th>\n",
       "      <td>69.9</td>\n",
       "      <td>19.61400</td>\n",
       "      <td>29.456157</td>\n",
       "      <td>40.443843</td>\n",
       "      <td>Latin America &amp; Caribbean</td>\n",
       "      <td>Peru</td>\n",
       "    </tr>\n",
       "    <tr>\n",
       "      <th>2973</th>\n",
       "      <td>69.4</td>\n",
       "      <td>22.18176</td>\n",
       "      <td>29.902895</td>\n",
       "      <td>39.497105</td>\n",
       "      <td>Europe &amp; Central Asia</td>\n",
       "      <td>Cyprus</td>\n",
       "    </tr>\n",
       "    <tr>\n",
       "      <th>9288</th>\n",
       "      <td>66.8</td>\n",
       "      <td>27.08393</td>\n",
       "      <td>30.755773</td>\n",
       "      <td>36.044227</td>\n",
       "      <td>Latin America &amp; Caribbean</td>\n",
       "      <td>Peru</td>\n",
       "    </tr>\n",
       "  </tbody>\n",
       "</table>\n",
       "</div>"
      ],
      "text/plain": [
       "      ai03      di02      acess          e                     Region Country\n",
       "9295  77.8  46.87016  34.198174  43.601826  Latin America & Caribbean    Peru\n",
       "2158  79.6  68.09574  37.890992  41.709008  Latin America & Caribbean   Chile\n",
       "9284  69.9  19.61400  29.456157  40.443843  Latin America & Caribbean    Peru\n",
       "2973  69.4  22.18176  29.902895  39.497105      Europe & Central Asia  Cyprus\n",
       "9288  66.8  27.08393  30.755773  36.044227  Latin America & Caribbean    Peru"
      ]
     },
     "execution_count": 24,
     "metadata": {},
     "output_type": "execute_result"
    }
   ],
   "source": [
    "data.sort_values(by='e',ascending=False).head()"
   ]
  },
  {
   "cell_type": "code",
   "execution_count": 25,
   "metadata": {},
   "outputs": [
    {
     "data": {
      "image/png": "[encoded data removed]",
      "text/plain": [
       "<Figure size 640x480 with 1 Axes>"
      ]
     },
     "metadata": {},
     "output_type": "display_data"
    }
   ],
   "source": [
    "import seaborn as sns # type: ignore\n",
    "sns.histplot(data=data, x='e', binwidth=15, stat=\"probability\", color=\"magenta\", alpha=0.8, edgecolor=\"black\", linewidth=0.3)\n",
    "\n",
    "# Adjusting plot aesthetics with Matplotlib\n",
    "plt.xlabel(\"Residuals\")\n",
    "plt.ylabel(\"Percent\")\n",
    "plt.xlim(-51, 100)\n",
    "plt.ylim(0, 0.45)\n",
    "plt.xticks(np.arange(-51, 51, 60))\n",
    "plt.yticks(np.arange(0, 0.45, 0.10), labels=[f\"{x:.0%}\" for x in np.arange(0, 0.45, 0.10)])\n",
    "\n",
    "\n",
    "\n",
    "# Show plot\n",
    "plt.show()"
   ]
  },
  {
   "cell_type": "code",
   "execution_count": null,
   "metadata": {},
   "outputs": [],
   "source": []
  }
 ],
 "metadata": {
  "kernelspec": {
   "display_name": "Python 3",
   "language": "python",
   "name": "python3"
  },
  "language_info": {
   "codemirror_mode": {
    "name": "ipython",
    "version": 3
   },
   "file_extension": ".py",
   "mimetype": "text/x-python",
   "name": "python",
   "nbconvert_exporter": "python",
   "pygments_lexer": "ipython3",
   "version": "3.12.3"
  }
 },
 "nbformat": 4,
 "nbformat_minor": 2
}
